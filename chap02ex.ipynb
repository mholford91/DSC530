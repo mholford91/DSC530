{
 "cells": [
  {
   "cell_type": "markdown",
   "metadata": {},
   "source": [
    "Name: Megan Holford\n",
    "Course: DSC 530\n",
    "Date: December 20, 2020"
   ]
  },
  {
   "cell_type": "code",
   "execution_count": 1,
   "metadata": {},
   "outputs": [],
   "source": [
    "from __future__ import print_function, division\n",
    "\n",
    "%matplotlib inline\n",
    "\n",
    "import numpy as np\n",
    "import pandas as pd\n",
    "import matplotlib.pyplot as plt\n",
    "import nsfg\n",
    "import first\n",
    "\n",
    "preg = nsfg.ReadFemPreg()\n",
    "preg = preg[preg['outcome'] == 1]\n",
    "\n",
    "first_born = preg[preg['birthord'] == 1]\n",
    "others = preg[preg['birthord'] != 1]\n"
   ]
  },
  {
   "cell_type": "markdown",
   "metadata": {},
   "source": [
    "# Exercise 2-1"
   ]
  },
  {
   "cell_type": "markdown",
   "metadata": {},
   "source": [
    "Based on the results in this chapter, suppose you were asked to summarize what you learned about wheter first babies arrive late. Answer the question, \"Do first babies arrive late?\" Write a paragraph that uses results in this chapter to answer the questions clearly,..."
   ]
  },
  {
   "cell_type": "markdown",
   "metadata": {},
   "source": [
    "A Cohen Efficent on 0.2 does not show a strong correlation, so to say that first babies are born late based on the data is not supported. The difference in pregnancy length for first babies vs other babies is about 0.078 weeks and that comes to about a 13 hour difference between when first babies are born and when other babies are born so statistically, there is not a lot of difference to suggest that first babies are born signigicantly later than other babies. Of course, as the text mentions, how you report these findings would depend on the case and use of the data. Sometimes, any statisical different may be important in reporting, but like the text suggests, in a case like this, you may only look for differences that would lead to a clinically significant difference that a doctor would need to take note of. "
   ]
  },
  {
   "cell_type": "markdown",
   "metadata": {},
   "source": [
    "# Exercise 2-4"
   ]
  },
  {
   "cell_type": "raw",
   "metadata": {},
   "source": [
    "Using the variable `totalwgt_lb`, investigate whether first babies are lighter or heavier than others. \n",
    "\n",
    "Compute Cohen’s effect size to quantify the difference between the groups.  How does it compare to the difference in pregnancy length?"
   ]
  },
  {
   "cell_type": "code",
   "execution_count": 2,
   "metadata": {},
   "outputs": [
    {
     "name": "stdout",
     "output_type": "stream",
     "text": [
      "7.201094430437772\n",
      "1.4205728777207374\n",
      "2.0180273009157768\n"
     ]
    }
   ],
   "source": [
    "print(first_born[\"totalwgt_lb\"].mean())\n",
    "print(first_born[\"totalwgt_lb\"].std())\n",
    "print(first_born[\"totalwgt_lb\"].var())"
   ]
  },
  {
   "cell_type": "code",
   "execution_count": 3,
   "metadata": {},
   "outputs": [
    {
     "name": "stdout",
     "output_type": "stream",
     "text": [
      "7.325855614973262\n",
      "1.3941954762143138\n",
      "1.9437810258964572\n"
     ]
    }
   ],
   "source": [
    "print(others[\"totalwgt_lb\"].mean())\n",
    "print(others[\"totalwgt_lb\"].std())\n",
    "print(others[\"totalwgt_lb\"].var())"
   ]
  },
  {
   "cell_type": "markdown",
   "metadata": {},
   "source": [
    "The means of the weights are about 0.1 different so the mean weight of first born babies and other babies is about the same."
   ]
  },
  {
   "cell_type": "code",
   "execution_count": 4,
   "metadata": {},
   "outputs": [
    {
     "data": {
      "text/plain": [
       "-0.088672927072602"
      ]
     },
     "execution_count": 4,
     "metadata": {},
     "output_type": "execute_result"
    }
   ],
   "source": [
    "def CohenEffectSize(group1, group2):\n",
    "   \n",
    "    diff = group1.mean() - group2.mean()\n",
    "\n",
    "    var1 = group1.var()\n",
    "    var2 = group2.var()\n",
    "    n1, n2 = len(group1), len(group2)\n",
    "\n",
    "    pooled_var = (n1 * var1 + n2 * var2) / (n1 + n2)\n",
    "    d = diff / np.sqrt(pooled_var)\n",
    "    return d\n",
    "\n",
    "CohenEffectSize(first_born[\"totalwgt_lb\"],others[\"totalwgt_lb\"])"
   ]
  },
  {
   "cell_type": "markdown",
   "metadata": {},
   "source": [
    "Once again, the Cohen's d value shows no real strong correlation that first babies weigh that much more or less than other babies. "
   ]
  },
  {
   "cell_type": "code",
   "execution_count": 5,
   "metadata": {},
   "outputs": [
    {
     "data": {
      "image/png": "[encoded data removed]",
      "text/plain": [
       "<Figure size 432x288 with 1 Axes>"
      ]
     },
     "metadata": {
      "needs_background": "light"
     },
     "output_type": "display_data"
    }
   ],
   "source": [
    "totalwgt_lb = preg.birthwgt_lb + preg.birthwgt_oz / 16.0 \n",
    "\n",
    "plt.hist(totalwgt_lb, bins = 15);\n",
    "plt.xlabel(\"Weight (lb)\")\n",
    "plt.ylabel(\"Count\");\n",
    "plt.title(\"Total Weight of Babies\");\n"
   ]
  },
  {
   "cell_type": "markdown",
   "metadata": {},
   "source": [
    "Histogram of First Born Babies Weight"
   ]
  },
  {
   "cell_type": "code",
   "execution_count": 6,
   "metadata": {},
   "outputs": [
    {
     "data": {
      "image/png": "[encoded data removed]",
      "text/plain": [
       "<Figure size 432x288 with 1 Axes>"
      ]
     },
     "metadata": {
      "needs_background": "light"
     },
     "output_type": "display_data"
    }
   ],
   "source": [
    "plt.hist(first_born[\"totalwgt_lb\"], bins = 15);\n",
    "plt.xlabel(\"Weight (lb)\")\n",
    "plt.ylabel(\"Count\");\n",
    "plt.title(\"Total Weight of First Born Babies\");"
   ]
  },
  {
   "cell_type": "markdown",
   "metadata": {},
   "source": [
    "Histogram of Other Babies Weight"
   ]
  },
  {
   "cell_type": "code",
   "execution_count": 7,
   "metadata": {},
   "outputs": [
    {
     "data": {
      "image/png": "[encoded data removed]",
      "text/plain": [
       "<Figure size 432x288 with 1 Axes>"
      ]
     },
     "metadata": {
      "needs_background": "light"
     },
     "output_type": "display_data"
    }
   ],
   "source": [
    "plt.hist(others[\"totalwgt_lb\"], bins = 15);\n",
    "plt.xlabel(\"Weight (lb)\")\n",
    "plt.ylabel(\"Count\");\n",
    "plt.title(\"Total Weight of Other Babies\");"
   ]
  }
 ],
 "metadata": {
  "kernelspec": {
   "display_name": "Python 3",
   "language": "python",
   "name": "python3"
  },
  "language_info": {
   "codemirror_mode": {
    "name": "ipython",
    "version": 3
   },
   "file_extension": ".py",
   "mimetype": "text/x-python",
   "name": "python",
   "nbconvert_exporter": "python",
   "pygments_lexer": "ipython3",
   "version": "3.8.5"
  }
 },
 "nbformat": 4,
 "nbformat_minor": 1
}
